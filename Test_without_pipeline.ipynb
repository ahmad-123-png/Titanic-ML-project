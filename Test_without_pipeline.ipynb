{
  "nbformat": 4,
  "nbformat_minor": 0,
  "metadata": {
    "colab": {
      "provenance": []
    },
    "kernelspec": {
      "name": "python3",
      "display_name": "Python 3"
    },
    "language_info": {
      "name": "python"
    }
  },
  "cells": [
    {
      "cell_type": "code",
      "execution_count": 22,
      "metadata": {
        "id": "8RSg2uEnCivr"
      },
      "outputs": [],
      "source": [
        "import pickle\n",
        "import numpy as np\n",
        "\n",
        "\n",
        "# loading oe_gender\n",
        "with open(\"oe_gender.pkl\",\"rb\") as file:\n",
        "  oe_gender_load= pickle.load(file)\n",
        "\n",
        "#oe_gender_load= pickle.load(open(\"oe_gender.pkl\",\"rb\"))\n",
        "\n",
        "# loading oe_embarked\n",
        "with open (\"oe_embarked.pkl\",\"rb\") as file:\n",
        "  oe_embarked_load= pickle.load(file)\n",
        "\n",
        "#oe_embarked_load= pickle.load(open(\"oe_embarked.pkl\",\"rb\"))\n",
        "\n",
        "# loading clf\n",
        "with open (\"clf.pkl\",\"rb\") as file:\n",
        "  clf_loaded= pickle.load(file)\n",
        "\n",
        "#clf_load= pickle.load(open(\"clf.pkl\",\"rb\"))\n",
        "\n"
      ]
    },
    {
      "cell_type": "code",
      "source": [
        "\"\"\"\n",
        "TEST INPUT\n",
        "\n",
        "The column format is as follows:\n",
        "\n",
        "Pclass/Sex/Age/Sibsp/Parch/Fare/Embarked\n",
        "\n",
        "\"\"\"\n",
        "\n",
        "test_subject=np.array([1,\"female\",45,1,2,85,\"S\"],dtype=object).reshape(1,7)\n",
        "\n",
        "\"\"\" reshape is important. It converts it from a 1D array containing 7 elements to a 2D array containing 1 row and 7 columns.\n",
        "\n",
        "This is an important step as ML predictions expect a 2D input.\n",
        "\n",
        "Reshapes the array to have 1 row and 7 columns:\n",
        "Original shape: (7,) (a 1D array with 7 elements).\n",
        "After reshaping: (1, 7) (a 2D array with 1 row and 7 columns).\n",
        "Purpose: Makes the array compatible with operations that expect a 2D input, such as predictions in machine learning models.\n",
        "\n",
        "\"\"\"\n",
        "print(oe_gender_load.feature_names_in_)  # Feature names the encoder was fitted with\n",
        "\n"
      ],
      "metadata": {
        "colab": {
          "base_uri": "https://localhost:8080/"
        },
        "id": "YAqdAo2YDbLE",
        "outputId": "d1876d23-21e0-44c7-dfef-9e3fd0aa8830"
      },
      "execution_count": 23,
      "outputs": [
        {
          "output_type": "stream",
          "name": "stdout",
          "text": [
            "['Sex']\n"
          ]
        }
      ]
    },
    {
      "cell_type": "code",
      "source": [
        "\n",
        "\n",
        "#Now we have to encode Gender and Embarked column again using one hot encoding.\n",
        "\n",
        "\n",
        "# oe_gender_load already contains all the instructions for one hot encoding for the gender column\n",
        "\n",
        "#Use only transform, not fit. The learning has already been applied before while training\n",
        "\n",
        "\n",
        "test_oe_gender= oe_gender_load.transform(test_subject[:,1].reshape([1,1]))\n",
        "\n",
        "\n",
        "\n",
        "#Again converting output to 2D array using the reshape method\n",
        "\n",
        "test_oe_embarked= oe_embarked_load.transform(test_subject[:,-1].reshape([1,1]))\n",
        "\n",
        "test_oe_gender\n",
        "\n",
        "test_oe_embarked\n",
        "\n",
        "\n",
        "\n",
        "\n",
        "\n"
      ],
      "metadata": {
        "colab": {
          "base_uri": "https://localhost:8080/"
        },
        "id": "yf74L2WJGhOq",
        "outputId": "7fd951c8-cae1-4af5-e44d-c21e7a9bf8f6"
      },
      "execution_count": 24,
      "outputs": [
        {
          "output_type": "stream",
          "name": "stderr",
          "text": [
            "/usr/local/lib/python3.10/dist-packages/sklearn/utils/validation.py:2739: UserWarning: X does not have valid feature names, but OneHotEncoder was fitted with feature names\n",
            "  warnings.warn(\n"
          ]
        },
        {
          "output_type": "execute_result",
          "data": {
            "text/plain": [
              "array([[0., 1.]])"
            ]
          },
          "metadata": {},
          "execution_count": 24
        }
      ]
    },
    {
      "cell_type": "code",
      "source": [
        "test_oe_age= np.reshape(test_subject[:,2],(1,1)) #reshaping age. We have to follow the order we did in X_test_transformed. Order is pasted in cell below"
      ],
      "metadata": {
        "id": "K0f9RHqlPqWf"
      },
      "execution_count": 25,
      "outputs": []
    },
    {
      "cell_type": "code",
      "source": [
        "# Now concatenate the arrays back into a single array [1,\"male\",21,0,0,85,\"S\"]\n",
        "\n",
        "test_subject_updated= np.concatenate((test_subject[:,[0,3,4,5]],test_oe_gender,test_oe_age,test_oe_embarked),axis=1) # Order of arrays to follow\n",
        "                                                                                                            #X_test_transformed= np.concatenate((X_test_rem,X_test_sex,X_test_age,X_test_embarked),axis=1)\n",
        "\n",
        "test_subject_updated.shape\n"
      ],
      "metadata": {
        "colab": {
          "base_uri": "https://localhost:8080/"
        },
        "id": "JKb4Va8bNsG6",
        "outputId": "ccd467ae-41c2-4efc-a54a-39e7d88b7189"
      },
      "execution_count": 26,
      "outputs": [
        {
          "output_type": "execute_result",
          "data": {
            "text/plain": [
              "(1, 8)"
            ]
          },
          "metadata": {},
          "execution_count": 26
        }
      ]
    },
    {
      "cell_type": "code",
      "source": [
        "clf_loaded.predict(test_subject_updated) 
      ],
      "metadata": {
        "colab": {
          "base_uri": "https://localhost:8080/"
        },
        "id": "XaP2oZdyQOc8",
        "outputId": "ad1321b3-477f-4210-df85-4659b0df1e0a"
      },
      "execution_count": 27,
      "outputs": [
        {
          "output_type": "execute_result",
          "data": {
            "text/plain": [
              "array([1])"
            ]
          },
          "metadata": {},
          "execution_count": 27
        }
      ]
    }
  ]
}
